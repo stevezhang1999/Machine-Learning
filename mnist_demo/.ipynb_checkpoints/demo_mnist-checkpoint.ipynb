{
 "cells": [
  {
   "cell_type": "code",
   "execution_count": null,
   "metadata": {
    "colab": {
     "autoexec": {
      "startup": false,
      "wait_interval": 0
     }
    },
    "colab_type": "code",
    "id": "hYhLjte7yoHF"
   },
   "outputs": [],
   "source": [
    "# -*- coding: utf-8 -*-"
   ]
  },
  {
   "cell_type": "code",
   "execution_count": 2,
   "metadata": {
    "cellView": "code",
    "colab": {
     "autoexec": {
      "startup": false,
      "wait_interval": 0
     },
     "base_uri": "https://localhost:8080/",
     "height": 35
    },
    "colab_type": "code",
    "executionInfo": {
     "elapsed": 2007,
     "status": "ok",
     "timestamp": 1527941399359,
     "user": {
      "displayName": "Steve Zhang",
      "photoUrl": "https://lh3.googleusercontent.com/a/default-user=s128",
      "userId": "117591475446356544388"
     },
     "user_tz": -480
    },
    "id": "T6gTdX7eMWoO",
    "outputId": "15f95766-0f14-4081-8089-a771df820d33"
   },
   "outputs": [
    {
     "name": "stderr",
     "output_type": "stream",
     "text": [
      "C:\\Users\\hp\\Anaconda3\\lib\\site-packages\\h5py\\__init__.py:34: FutureWarning: Conversion of the second argument of issubdtype from `float` to `np.floating` is deprecated. In future, it will be treated as `np.float64 == np.dtype(float).type`.\n",
      "  from ._conv import register_converters as _register_converters\n"
     ]
    },
    {
     "name": "stdout",
     "output_type": "stream",
     "text": [
      "Tensorflow version 1.8.0\n"
     ]
    }
   ],
   "source": [
    "#import necessary libraries\n",
    "import tensorflow as tf\n",
    "from tensorflow.python.framework import ops\n",
    "import numpy as np\n",
    "import matplotlib.pyplot as plt\n",
    "print(\"Tensorflow version \" + tf.__version__)"
   ]
  },
  {
   "cell_type": "code",
   "execution_count": null,
   "metadata": {
    "colab": {
     "autoexec": {
      "startup": false,
      "wait_interval": 0
     },
     "base_uri": "https://localhost:8080/",
     "height": 88
    },
    "colab_type": "code",
    "executionInfo": {
     "elapsed": 1116,
     "status": "ok",
     "timestamp": 1527941400694,
     "user": {
      "displayName": "Steve Zhang",
      "photoUrl": "https://lh3.googleusercontent.com/a/default-user=s128",
      "userId": "117591475446356544388"
     },
     "user_tz": -480
    },
    "id": "XKVfBh9mSPJc",
    "outputId": "b46ed563-c5d8-4ee4-8ad9-4a121df04016"
   },
   "outputs": [],
   "source": [
    "#load mnist dataset\n",
    "from tensorflow.examples.tutorials.mnist import input_data\n",
    "mnist = input_data.read_data_sets('MNIST_data', one_hot=True)"
   ]
  },
  {
   "cell_type": "code",
   "execution_count": null,
   "metadata": {
    "colab": {
     "autoexec": {
      "startup": false,
      "wait_interval": 0
     }
    },
    "colab_type": "code",
    "id": "yUkPiY53MsWt"
   },
   "outputs": [],
   "source": [
    "#load from mnist dataset\n",
    "train_data = mnist.train.images # Returns np.array\n",
    "train_labels = np.asarray(mnist.train.labels, dtype=np.int32)\n",
    "eval_data = mnist.test.images # Returns np.array\n",
    "eval_labels = np.asarray(mnist.test.labels, dtype=np.int32)"
   ]
  },
  {
   "cell_type": "code",
   "execution_count": null,
   "metadata": {
    "colab": {
     "autoexec": {
      "startup": false,
      "wait_interval": 0
     },
     "base_uri": "https://localhost:8080/",
     "height": 52
    },
    "colab_type": "code",
    "executionInfo": {
     "elapsed": 762,
     "status": "ok",
     "timestamp": 1527941402409,
     "user": {
      "displayName": "Steve Zhang",
      "photoUrl": "https://lh3.googleusercontent.com/a/default-user=s128",
      "userId": "117591475446356544388"
     },
     "user_tz": -480
    },
    "id": "rqXfuN0KNAyn",
    "outputId": "28041d4a-db79-4081-ae1c-165d6dc6fb4a"
   },
   "outputs": [],
   "source": [
    "#reshape train_data, eval_data\n",
    "train_data = np.reshape(train_data,[-1,28,28,1])\n",
    "eval_data=np.reshape(eval_data,[-1,28,28,1])\n",
    "print('Training set shape: ', np.shape(train_data))\n",
    "print('Test set shape: ',np.shape(eval_data))"
   ]
  },
  {
   "cell_type": "code",
   "execution_count": null,
   "metadata": {
    "colab": {
     "autoexec": {
      "startup": false,
      "wait_interval": 0
     }
    },
    "colab_type": "code",
    "id": "ctpme6vbNF3t"
   },
   "outputs": [],
   "source": [
    "#copy and rename data\n",
    "X_train = train_data\n",
    "Y_train = train_labels\n",
    "X_test = eval_data\n",
    "Y_test = eval_labels"
   ]
  },
  {
   "cell_type": "code",
   "execution_count": null,
   "metadata": {
    "colab": {
     "autoexec": {
      "startup": false,
      "wait_interval": 0
     }
    },
    "colab_type": "code",
    "id": "CrLnzIOYQazG"
   },
   "outputs": [],
   "source": [
    "#Create placeholders for X and y\n",
    "X = tf.placeholder(name='X', shape=(None,28,28,1), dtype=tf.float32)\n",
    "y = tf.placeholder(name='y', shape=(None,10), dtype=tf.float32)"
   ]
  },
  {
   "cell_type": "code",
   "execution_count": null,
   "metadata": {
    "colab": {
     "autoexec": {
      "startup": false,
      "wait_interval": 0
     }
    },
    "colab_type": "code",
    "id": "0p7bXKD_NHDO"
   },
   "outputs": [],
   "source": [
    "#initialize weights and bias\n",
    "#using xavier initialization for weights and zero initialization for bias\n",
    "W1 = tf.get_variable(name='W1', shape=(5,5,1,6), dtype=tf.float32, initializer=tf.contrib.layers.xavier_initializer())\n",
    "W2 = tf.get_variable(name='W2', shape=(5,5,6,16), dtype=tf.float32, initializer=tf.contrib.layers.xavier_initializer())\n",
    "W3 = tf.get_variable(name='W3', shape=(400,120), dtype=tf.float32, initializer=tf.contrib.layers.xavier_initializer())\n",
    "W4 = tf.get_variable(name='W4', shape=(120,84), dtype=tf.float32, initializer=tf.contrib.layers.xavier_initializer())\n",
    "W5 = tf.get_variable(name='W5', shape=(84,10), dtype=tf.float32, initializer=tf.contrib.layers.xavier_initializer())\n",
    "\n",
    "B1 = tf.get_variable(name='B1', shape=(6), dtype=tf.float32, initializer=tf.zeros_initializer())\n",
    "B2 = tf.get_variable(name='B2', shape=(16), dtype=tf.float32, initializer=tf.zeros_initializer())\n",
    "B3 = tf.get_variable(name='B3', shape=(120), dtype=tf.float32, initializer=tf.zeros_initializer())\n",
    "B4 = tf.get_variable(name='B4', shape=(84), dtype=tf.float32, initializer=tf.zeros_initializer())\n",
    "B5 = tf.get_variable(name='B5', shape=(10), dtype=tf.float32, initializer=tf.zeros_initializer())"
   ]
  },
  {
   "cell_type": "code",
   "execution_count": null,
   "metadata": {
    "cellView": "code",
    "colab": {
     "autoexec": {
      "startup": false,
      "wait_interval": 0
     },
     "base_uri": "https://localhost:8080/",
     "height": 177
    },
    "colab_type": "code",
    "executionInfo": {
     "elapsed": 785,
     "status": "ok",
     "timestamp": 1527941406374,
     "user": {
      "displayName": "Steve Zhang",
      "photoUrl": "https://lh3.googleusercontent.com/a/default-user=s128",
      "userId": "117591475446356544388"
     },
     "user_tz": -480
    },
    "id": "Mo5LeMmcNHW1",
    "outputId": "02b4dd30-f180-45a5-f897-bad5439fa4ea"
   },
   "outputs": [],
   "source": [
    "#CNN model - A 'modern' LeNet-5\n",
    "#\n",
    "#conv -> relu -> max pooling -> conv -> relu -> FC -> relu -> FC -> relu -> FC -> softmax\n",
    "#\n",
    "#input - m * 28 * 28 *1  \n",
    "#\n",
    "#convolutional layer 1 (relu) - 28 * 28 * 1 -> 28 * 28 * 6     stride=1, filter_size=5\n",
    "#max pooling layer 1 - 28 * 28 * 6 -> 14 * 14 * 6              stride=2, filter_size=2\n",
    "#\n",
    "#convolutional layer 2 (relu) - 14 * 14 * 6 -> 10 * 10 * 16    stride=1, filter_size=5\n",
    "#max pooling layer 2 - 10 * 10 * 16 -> 5 * 5 * 16              stride=2, filter_size=2\n",
    "#\n",
    "#flatten - 5 * 5 * 16 -> 400\n",
    "#\n",
    "#full-connected layer 1 (relu) - 400 -> 120\n",
    "#\n",
    "#full-connected layer 2 (relu) - 120 ->84\n",
    "#\n",
    "#full-connected layer 3 (softmax) - 84 -> 10\n",
    "\n",
    "A1 = tf.nn.relu(tf.nn.conv2d(input=X, filter=W1, strides=(1,1,1,1), padding='SAME')+B1)\n",
    "print(A1)\n",
    "P1 = tf.nn.max_pool(value=A1, ksize=(1,2,2,1), strides=(1,2,2,1), padding='SAME')\n",
    "print(P1)\n",
    "A2 = tf.nn.relu(tf.nn.conv2d(input=P1, filter=W2, strides=(1,1,1,1), padding='VALID')+B2)\n",
    "print(A2)\n",
    "P2 = tf.nn.max_pool(value=A2, ksize=(1,2,2,1), strides=(1,2,2,1), padding='SAME')\n",
    "print(P2)\n",
    "P2_flatten = tf.contrib.layers.flatten(P2)\n",
    "print(P2_flatten)\n",
    "A3 = tf.nn.relu(tf.matmul(P2_flatten, W3) + B3)\n",
    "print(A3)\n",
    "A4 = tf.nn.relu(tf.matmul(A3, W4) + B4)\n",
    "print(A4)\n",
    "Z5 = tf.matmul(A4, W5) + B5\n",
    "print(Z5)\n",
    "y_pred = tf.nn.softmax(Z5)\n",
    "print(y_pred)\n",
    "\n",
    "#compute cost\n",
    "loss = tf.reduce_mean(tf.nn.softmax_cross_entropy_with_logits_v2(logits=Z5, labels=y))\n",
    "#define a step\n",
    "step = tf.train.AdamOptimizer(learning_rate=0.006).minimize(loss)\n",
    "#prediction\n",
    "correct_prediction = tf.equal(tf.argmax(y_pred,1), tf.argmax(y,1))\n",
    "#compute accuracy    #use this to compute train or test accuracy.\n",
    "accuracy = tf.reduce_mean(tf.cast(correct_prediction, \"float\"))"
   ]
  },
  {
   "cell_type": "code",
   "execution_count": null,
   "metadata": {
    "colab": {
     "autoexec": {
      "startup": false,
      "wait_interval": 0
     }
    },
    "colab_type": "code",
    "id": "6Ck-An4nNH04"
   },
   "outputs": [],
   "source": [
    "#initialize global variables in tensorflow\n",
    "init = tf.global_variables_initializer()\n",
    "sess = tf.Session()\n",
    "sess.run(init)"
   ]
  },
  {
   "cell_type": "code",
   "execution_count": null,
   "metadata": {
    "colab": {
     "autoexec": {
      "startup": false,
      "wait_interval": 0
     }
    },
    "colab_type": "code",
    "id": "6SMX2aQr2uRN"
   },
   "outputs": [],
   "source": [
    "#Let's create the list storing cost first\n",
    "costs=[]"
   ]
  },
  {
   "cell_type": "code",
   "execution_count": null,
   "metadata": {
    "colab": {
     "autoexec": {
      "startup": false,
      "wait_interval": 0
     },
     "base_uri": "https://localhost:8080/",
     "height": 1301
    },
    "colab_type": "code",
    "executionInfo": {
     "elapsed": 171682,
     "status": "ok",
     "timestamp": 1527941813186,
     "user": {
      "displayName": "Steve Zhang",
      "photoUrl": "https://lh3.googleusercontent.com/a/default-user=s128",
      "userId": "117591475446356544388"
     },
     "user_tz": -480
    },
    "id": "VwueIsNLpXyY",
    "outputId": "467916f6-3a8f-43af-9270-f6015c3c0814"
   },
   "outputs": [],
   "source": [
    "#train the CNN with 250 iterations and learning_rate=0.006\n",
    "\n",
    "\n",
    "for i in range(1,251):\n",
    "    _, tmp_cost = sess.run([step,loss], feed_dict={X:X_train, y:Y_train})\n",
    "    costs.append(tmp_cost)\n",
    "    if i%5 == 0:\n",
    "        print('cost after iteration {0} : {1}'.format(i, tmp_cost))\n",
    "\n",
    "plt.plot(np.squeeze(costs))\n",
    "plt.ylabel('cost')\n",
    "plt.xlabel('iterations')\n",
    "plt.title(\"Learning rate =\" + str(0.006))\n",
    "plt.show()  \n",
    "\n",
    "\n",
    "train_accuracy = accuracy.eval(session=sess, feed_dict={X: X_train, y: Y_train})\n",
    "test_accuracy = accuracy.eval(session=sess, feed_dict={X: X_test, y: Y_test})\n",
    "print(\"Train Accuracy:\", train_accuracy)\n",
    "print(\"Test Accuracy:\", test_accuracy)"
   ]
  },
  {
   "cell_type": "code",
   "execution_count": null,
   "metadata": {
    "colab": {
     "autoexec": {
      "startup": false,
      "wait_interval": 0
     },
     "base_uri": "https://localhost:8080/",
     "height": 35
    },
    "colab_type": "code",
    "executionInfo": {
     "elapsed": 770,
     "status": "ok",
     "timestamp": 1527941589248,
     "user": {
      "displayName": "Steve Zhang",
      "photoUrl": "https://lh3.googleusercontent.com/a/default-user=s128",
      "userId": "117591475446356544388"
     },
     "user_tz": -480
    },
    "id": "LSqGd7CBNjEc",
    "outputId": "34331942-69fb-40cd-d31c-5b9cadd1384a"
   },
   "outputs": [],
   "source": [
    "#save the model\n",
    "saver = tf.train.Saver()\n",
    "path = saver.save(sess, './my_model.ckpt')\n",
    "print(path)"
   ]
  },
  {
   "cell_type": "code",
   "execution_count": 3,
   "metadata": {},
   "outputs": [
    {
     "name": "stdout",
     "output_type": "stream",
     "text": [
      "None\n"
     ]
    },
    {
     "ename": "OSError",
     "evalue": "File my_model.ckpt.meta does not exist.",
     "output_type": "error",
     "traceback": [
      "\u001b[1;31m---------------------------------------------------------------------------\u001b[0m",
      "\u001b[1;31mOSError\u001b[0m                                   Traceback (most recent call last)",
      "\u001b[1;32m<ipython-input-3-48bcc455ee60>\u001b[0m in \u001b[0;36m<module>\u001b[1;34m()\u001b[0m\n\u001b[0;32m      8\u001b[0m   \u001b[0mstate\u001b[0m \u001b[1;33m=\u001b[0m \u001b[0mtf\u001b[0m\u001b[1;33m.\u001b[0m\u001b[0mtrain\u001b[0m\u001b[1;33m.\u001b[0m\u001b[0mget_checkpoint_state\u001b[0m\u001b[1;33m(\u001b[0m\u001b[1;34m'./'\u001b[0m\u001b[1;33m)\u001b[0m\u001b[1;33m\u001b[0m\u001b[0m\n\u001b[0;32m      9\u001b[0m   \u001b[0mprint\u001b[0m\u001b[1;33m(\u001b[0m\u001b[0mstate\u001b[0m\u001b[1;33m)\u001b[0m\u001b[1;33m\u001b[0m\u001b[0m\n\u001b[1;32m---> 10\u001b[1;33m   \u001b[0msaver\u001b[0m \u001b[1;33m=\u001b[0m \u001b[0mtf\u001b[0m\u001b[1;33m.\u001b[0m\u001b[0mtrain\u001b[0m\u001b[1;33m.\u001b[0m\u001b[0mimport_meta_graph\u001b[0m\u001b[1;33m(\u001b[0m\u001b[1;34m'my_model.ckpt.meta'\u001b[0m\u001b[1;33m)\u001b[0m\u001b[1;33m\u001b[0m\u001b[0m\n\u001b[0m\u001b[0;32m     11\u001b[0m   \u001b[0msaver\u001b[0m\u001b[1;33m.\u001b[0m\u001b[0mrestore\u001b[0m\u001b[1;33m(\u001b[0m\u001b[0msess\u001b[0m\u001b[1;33m,\u001b[0m\u001b[0mtf\u001b[0m\u001b[1;33m.\u001b[0m\u001b[0mtrain\u001b[0m\u001b[1;33m.\u001b[0m\u001b[0mlatest_checkpoint\u001b[0m\u001b[1;33m(\u001b[0m\u001b[1;34m'./'\u001b[0m\u001b[1;33m)\u001b[0m\u001b[1;33m)\u001b[0m\u001b[1;33m\u001b[0m\u001b[0m\n\u001b[0;32m     12\u001b[0m \u001b[1;33m\u001b[0m\u001b[0m\n",
      "\u001b[1;32m~\\Anaconda3\\lib\\site-packages\\tensorflow\\python\\training\\saver.py\u001b[0m in \u001b[0;36mimport_meta_graph\u001b[1;34m(meta_graph_or_file, clear_devices, import_scope, **kwargs)\u001b[0m\n\u001b[0;32m   1945\u001b[0m                        \"execution is enabled.\")\n\u001b[0;32m   1946\u001b[0m   \u001b[1;32mif\u001b[0m \u001b[1;32mnot\u001b[0m \u001b[0misinstance\u001b[0m\u001b[1;33m(\u001b[0m\u001b[0mmeta_graph_or_file\u001b[0m\u001b[1;33m,\u001b[0m \u001b[0mmeta_graph_pb2\u001b[0m\u001b[1;33m.\u001b[0m\u001b[0mMetaGraphDef\u001b[0m\u001b[1;33m)\u001b[0m\u001b[1;33m:\u001b[0m\u001b[1;33m\u001b[0m\u001b[0m\n\u001b[1;32m-> 1947\u001b[1;33m     \u001b[0mmeta_graph_def\u001b[0m \u001b[1;33m=\u001b[0m \u001b[0mmeta_graph\u001b[0m\u001b[1;33m.\u001b[0m\u001b[0mread_meta_graph_file\u001b[0m\u001b[1;33m(\u001b[0m\u001b[0mmeta_graph_or_file\u001b[0m\u001b[1;33m)\u001b[0m\u001b[1;33m\u001b[0m\u001b[0m\n\u001b[0m\u001b[0;32m   1948\u001b[0m   \u001b[1;32melse\u001b[0m\u001b[1;33m:\u001b[0m\u001b[1;33m\u001b[0m\u001b[0m\n\u001b[0;32m   1949\u001b[0m     \u001b[0mmeta_graph_def\u001b[0m \u001b[1;33m=\u001b[0m \u001b[0mmeta_graph_or_file\u001b[0m\u001b[1;33m\u001b[0m\u001b[0m\n",
      "\u001b[1;32m~\\Anaconda3\\lib\\site-packages\\tensorflow\\python\\framework\\meta_graph.py\u001b[0m in \u001b[0;36mread_meta_graph_file\u001b[1;34m(filename)\u001b[0m\n\u001b[0;32m    630\u001b[0m   \u001b[0mmeta_graph_def\u001b[0m \u001b[1;33m=\u001b[0m \u001b[0mmeta_graph_pb2\u001b[0m\u001b[1;33m.\u001b[0m\u001b[0mMetaGraphDef\u001b[0m\u001b[1;33m(\u001b[0m\u001b[1;33m)\u001b[0m\u001b[1;33m\u001b[0m\u001b[0m\n\u001b[0;32m    631\u001b[0m   \u001b[1;32mif\u001b[0m \u001b[1;32mnot\u001b[0m \u001b[0mfile_io\u001b[0m\u001b[1;33m.\u001b[0m\u001b[0mfile_exists\u001b[0m\u001b[1;33m(\u001b[0m\u001b[0mfilename\u001b[0m\u001b[1;33m)\u001b[0m\u001b[1;33m:\u001b[0m\u001b[1;33m\u001b[0m\u001b[0m\n\u001b[1;32m--> 632\u001b[1;33m     \u001b[1;32mraise\u001b[0m \u001b[0mIOError\u001b[0m\u001b[1;33m(\u001b[0m\u001b[1;34m\"File %s does not exist.\"\u001b[0m \u001b[1;33m%\u001b[0m \u001b[0mfilename\u001b[0m\u001b[1;33m)\u001b[0m\u001b[1;33m\u001b[0m\u001b[0m\n\u001b[0m\u001b[0;32m    633\u001b[0m   \u001b[1;31m# First try to read it as a binary file.\u001b[0m\u001b[1;33m\u001b[0m\u001b[1;33m\u001b[0m\u001b[0m\n\u001b[0;32m    634\u001b[0m   \u001b[0mfile_content\u001b[0m \u001b[1;33m=\u001b[0m \u001b[0mfile_io\u001b[0m\u001b[1;33m.\u001b[0m\u001b[0mFileIO\u001b[0m\u001b[1;33m(\u001b[0m\u001b[0mfilename\u001b[0m\u001b[1;33m,\u001b[0m \u001b[1;34m\"rb\"\u001b[0m\u001b[1;33m)\u001b[0m\u001b[1;33m.\u001b[0m\u001b[0mread\u001b[0m\u001b[1;33m(\u001b[0m\u001b[1;33m)\u001b[0m\u001b[1;33m\u001b[0m\u001b[0m\n",
      "\u001b[1;31mOSError\u001b[0m: File my_model.ckpt.meta does not exist."
     ]
    }
   ],
   "source": [
    "#load the model \n",
    "#We will see the train accuracy is consistent with the result shown before\n",
    "#大概是这样，不过由于我在云端保存，在本地读取，所以并没有没成功运行过......\n",
    "#为大家准备了一份存档文件，有兴趣可以试试...\n",
    "\"\"\"\n",
    "ops.reset_default_graph()\n",
    "with tf.Session() as sess:\n",
    "  state = tf.train.get_checkpoint_state('储存的文件夹名')\n",
    "  print(state)\n",
    "  saver = tf.train.import_meta_graph('my_model.ckpt.meta')\n",
    "  saver.restore(sess,tf.train.latest_checkpoint('储存的文件夹名'))\n",
    "  \n",
    "  print(sess.graph)\n",
    "  print(accuracy.graph)\n",
    "\n",
    "  train_accuracy = accuracy.eval(session=sess, feed_dict={X: X_train, y: Y_train})\n",
    "  test_accuracy = accuracy.eval(session=sess, feed_dict={X: X_test, y: Y_test})\n",
    "  print(\"Train Accuracy:\", train_accuracy)\n",
    "  print(\"Test Accuracy:\", test_accuracy)\n",
    "\"\"\""
   ]
  },
  {
   "cell_type": "code",
   "execution_count": null,
   "metadata": {
    "colab": {
     "autoexec": {
      "startup": false,
      "wait_interval": 0
     }
    },
    "colab_type": "code",
    "id": "yKzrdVLiOso1"
   },
   "outputs": [],
   "source": [
    "#close the session\n",
    "sess.close()"
   ]
  },
  {
   "cell_type": "code",
   "execution_count": null,
   "metadata": {
    "colab": {
     "autoexec": {
      "startup": false,
      "wait_interval": 0
     },
     "base_uri": "https://localhost:8080/",
     "height": 525
    },
    "colab_type": "code",
    "executionInfo": {
     "elapsed": 1459,
     "status": "error",
     "timestamp": 1527936797304,
     "user": {
      "displayName": "Steve Zhang",
      "photoUrl": "https://lh3.googleusercontent.com/a/default-user=s128",
      "userId": "117591475446356544388"
     },
     "user_tz": -480
    },
    "id": "aQfLpsdnQEdu",
    "outputId": "8e7625ed-8935-4528-a2db-1c65a91a1d40"
   },
   "outputs": [
    {
     "name": "stdout",
     "output_type": "stream",
     "text": [
      "INFO:tensorflow:Restoring parameters from ./my_model.ckpt/\n"
     ]
    }
   ],
   "source": [
    "import tensorflow as tf\n",
    "from tensorflow.python.framework import ops\n",
    "#load the model \n",
    "#We will see the train accuracy is consistent with the result shown before\n",
    "ops.reset_default_graph()\n",
    "with tf.Session() as sess:\n",
    "\n",
    "    saver = tf.train.import_meta_graph('./my_model.ckpt.meta')\n",
    "    saver.restore(sess,'./my_model.ckpt/')\n",
    "\n",
    "    print(sess.graph)\n",
    "    print(accuracy.graph)\n",
    "\n",
    "    train_accuracy = accuracy.eval(session=sess, feed_dict={X: X_train, y: Y_train})\n",
    "    test_accuracy = accuracy.eval(session=sess, feed_dict={X: X_test, y: Y_test})\n",
    "    print(\"Train Accuracy:\", train_accuracy)\n",
    "    print(\"Test Accuracy:\", test_accuracy)"
   ]
  },
  {
   "cell_type": "code",
   "execution_count": null,
   "metadata": {
    "colab": {
     "autoexec": {
      "startup": false,
      "wait_interval": 0
     }
    },
    "colab_type": "code",
    "id": "bUT4C5eDjYH9"
   },
   "outputs": [],
   "source": [
    "def display_one_image(index = None):\n",
    "    \"\"\"\n",
    "    Display a designated or random image and predicted label from the test set.\n",
    "\n",
    "    Arguments:\n",
    "    index -- an integer (0~9999) , index of the image\n",
    "\n",
    "    Return:\n",
    "    None\n",
    "    \"\"\"\n",
    "\n",
    "    if index==None:\n",
    "        index = np.random.randint(1,10000) - 1\n",
    "        \n",
    "    raw_image = np.reshape(X_test[index],[1,28,28,1])\n",
    "    raw_label = Y_test[index]\n",
    "    label = np.argmax(raw_label)\n",
    "    image = np.reshape(raw_image,[28,28])\n",
    "    plt.imshow(image)\n",
    "    print('Image {} of 10000 from the test set.'.format(index+1))\n",
    "    prediction = tf.argmax(y_pred, 1)\n",
    "    tmp_predict = sess.run(prediction, feed_dict={X:raw_image})\n",
    "    print('Label: {}'.format(label))\n",
    "    print('Prediction: {}'.format(np.asscalar(tmp_predict)))"
   ]
  },
  {
   "cell_type": "code",
   "execution_count": null,
   "metadata": {
    "colab": {
     "autoexec": {
      "startup": false,
      "wait_interval": 0
     },
     "base_uri": "https://localhost:8080/",
     "height": 400
    },
    "colab_type": "code",
    "executionInfo": {
     "elapsed": 887,
     "status": "ok",
     "timestamp": 1527941592185,
     "user": {
      "displayName": "Steve Zhang",
      "photoUrl": "https://lh3.googleusercontent.com/a/default-user=s128",
      "userId": "117591475446356544388"
     },
     "user_tz": -480
    },
    "id": "hplszSCsnj7x",
    "outputId": "22699e1e-1450-43b1-c875-394ae0eecabd"
   },
   "outputs": [],
   "source": [
    "display_one_image(999)"
   ]
  },
  {
   "cell_type": "code",
   "execution_count": null,
   "metadata": {
    "colab": {
     "autoexec": {
      "startup": false,
      "wait_interval": 0
     }
    },
    "colab_type": "code",
    "id": "vPC9OacS1TGD"
   },
   "outputs": [],
   "source": [
    "def display_conv_relu_1(index=None):\n",
    "    \"\"\"\n",
    "    Visualize the convolutional layer 1 (relu), using a designated or random image from test set\n",
    "\n",
    "    Arguments:\n",
    "    index -- an integer (0~9999) , index of the image\n",
    "\n",
    "    Return:\n",
    "    None\n",
    "    \"\"\"\n",
    "  \n",
    "    #running A1\n",
    "    if index==None:\n",
    "        index=np.random.randint(0,10000)\n",
    "    conv_relu_1 = sess.run(A1, feed_dict={X:X_test})\n",
    "    conv_relu_1_test = conv_relu_1[index]\n",
    "    print('Showing image {0} of 10000 from the test set'.format(index+1))\n",
    "    print('Label: {0}'.format(np.asscalar((np.argmax(Y_test[index])))))\n",
    "    #create a dict storing the image we need\n",
    "    conv_relu_1_dict={}\n",
    "    for i in range(0,6):\n",
    "        conv_relu_1_dict['{0}'.format(i)]=conv_relu_1_test[:,:,i]\n",
    "    #displaying the images\n",
    "    fig = plt.figure(figsize=[20,20])\n",
    "    for i in range(0,6):\n",
    "        fig.add_subplot(6,1,i+1)\n",
    "        plt.imshow(np.reshape(conv_relu_1_dict['{0}'.format(i)],[28,28]))\n",
    "    plt.show()\n",
    "    fig.clear()\n",
    "  \n",
    "  \n",
    "    "
   ]
  },
  {
   "cell_type": "code",
   "execution_count": null,
   "metadata": {
    "colab": {
     "autoexec": {
      "startup": false,
      "wait_interval": 0
     },
     "base_uri": "https://localhost:8080/",
     "height": 1172
    },
    "colab_type": "code",
    "executionInfo": {
     "elapsed": 1547,
     "status": "ok",
     "timestamp": 1527941857629,
     "user": {
      "displayName": "Steve Zhang",
      "photoUrl": "https://lh3.googleusercontent.com/a/default-user=s128",
      "userId": "117591475446356544388"
     },
     "user_tz": -480
    },
    "id": "nL-7-FWP2z1i",
    "outputId": "67a890ad-ea41-4f50-e6ea-8af4b9038546",
    "scrolled": true
   },
   "outputs": [],
   "source": [
    "display_conv_relu_1(999)"
   ]
  },
  {
   "cell_type": "code",
   "execution_count": null,
   "metadata": {
    "colab": {
     "autoexec": {
      "startup": false,
      "wait_interval": 0
     }
    },
    "colab_type": "code",
    "id": "SHV7Ll3i7HUB"
   },
   "outputs": [],
   "source": [
    "def display_pool_1(index=None):\n",
    "    \"\"\"\n",
    "    Visualize the max pooling layer 1, using a designated or random image from test set\n",
    "\n",
    "    Arguments:\n",
    "    index -- an integer (0~9999) , index of the image\n",
    "\n",
    "    Return:\n",
    "    None\n",
    "    \"\"\"\n",
    "    #running P1\n",
    "    if index==None:\n",
    "        index=np.random.randint(0,10000)\n",
    "    pool_1 = sess.run(P1, feed_dict={X:X_test})\n",
    "    pool_1_test = pool_1[index]\n",
    "    print('Showing image {0} of 10000 from the test set'.format(index+1))\n",
    "    print('Label: {0}'.format(np.asscalar((np.argmax(Y_test[index])))))\n",
    "    #create a dict storing the image we need\n",
    "    pool_1_dict={}\n",
    "    for i in range(0,6):\n",
    "        pool_1_dict['{0}'.format(i)]=pool_1_test[:,:,i]\n",
    "    #displaying the images\n",
    "    fig = plt.figure(figsize=[20,20])\n",
    "    for i in range(0,6):\n",
    "        fig.add_subplot(6,1,i+1)\n",
    "        plt.imshow(np.reshape(pool_1_dict['{0}'.format(i)],[14,14]))\n",
    "    plt.show()\n",
    "    fig.clear()"
   ]
  },
  {
   "cell_type": "code",
   "execution_count": null,
   "metadata": {
    "colab": {
     "autoexec": {
      "startup": false,
      "wait_interval": 0
     },
     "base_uri": "https://localhost:8080/",
     "height": 1170
    },
    "colab_type": "code",
    "executionInfo": {
     "elapsed": 1570,
     "status": "ok",
     "timestamp": 1527941863467,
     "user": {
      "displayName": "Steve Zhang",
      "photoUrl": "https://lh3.googleusercontent.com/a/default-user=s128",
      "userId": "117591475446356544388"
     },
     "user_tz": -480
    },
    "id": "YviYRWUn7gpK",
    "outputId": "f87f653f-1ac3-4ac3-8ac9-5593ae942798"
   },
   "outputs": [],
   "source": [
    "display_pool_1(999)"
   ]
  },
  {
   "cell_type": "code",
   "execution_count": null,
   "metadata": {
    "cellView": "code",
    "colab": {
     "autoexec": {
      "startup": false,
      "wait_interval": 0
     }
    },
    "colab_type": "code",
    "id": "bD9LaXlG9qgC"
   },
   "outputs": [],
   "source": [
    "def display_conv_relu_2(index=None):\n",
    "    \"\"\"\n",
    "    Visualize the convolutional layer 2 (relu), using a designated or random image from test set\n",
    "\n",
    "    Arguments:\n",
    "    index -- an integer (0~9999) , index of the image\n",
    "\n",
    "    Return:\n",
    "    None\n",
    "    \"\"\"\n",
    "  \n",
    "    #running P1\n",
    "    if index==None:\n",
    "        index=np.random.randint(0,10000)\n",
    "    conv_relu_2 = sess.run(A2, feed_dict={X:X_test})\n",
    "    conv_relu_2_test = conv_relu_2[index]\n",
    "    print('Showing image {0} of 10000 from the test set'.format(index+1))\n",
    "    print('Label: {0}'.format(np.asscalar((np.argmax(Y_test[index])))))\n",
    "    #create a dict storing the image we need\n",
    "    conv_relu_2_dict={}\n",
    "    for i in range(0,16):\n",
    "        conv_relu_2_dict['{0}'.format(i)]=conv_relu_2_test[:,:,i]\n",
    "    #displaying the images\n",
    "    fig = plt.figure(figsize=[50,50])\n",
    "    for i in range(0,16):\n",
    "        fig.add_subplot(16,1,i+1)\n",
    "        plt.imshow(np.reshape(conv_relu_2_dict['{0}'.format(i)],[10,10]))\n",
    "    plt.show()\n",
    "    fig.clear()"
   ]
  },
  {
   "cell_type": "code",
   "execution_count": null,
   "metadata": {
    "colab": {
     "autoexec": {
      "startup": false,
      "wait_interval": 0
     },
     "base_uri": "https://localhost:8080/",
     "height": 2801
    },
    "colab_type": "code",
    "executionInfo": {
     "elapsed": 3476,
     "status": "ok",
     "timestamp": 1527941871067,
     "user": {
      "displayName": "Steve Zhang",
      "photoUrl": "https://lh3.googleusercontent.com/a/default-user=s128",
      "userId": "117591475446356544388"
     },
     "user_tz": -480
    },
    "id": "TuxpuBaE-ndS",
    "outputId": "9565686d-a6ce-4e71-91a9-f7aecb171c12"
   },
   "outputs": [],
   "source": [
    "display_conv_relu_2(999)"
   ]
  },
  {
   "cell_type": "code",
   "execution_count": null,
   "metadata": {
    "colab": {
     "autoexec": {
      "startup": false,
      "wait_interval": 0
     }
    },
    "colab_type": "code",
    "id": "1-BTokRqvb1m"
   },
   "outputs": [],
   "source": [
    "#get gpu info\n",
    "\n",
    "from tensorflow.python.client import device_lib\n",
    "print(device_lib.list_local_devices())\n",
    "\n",
    "device_name = tf.test.gpu_device_name()\n",
    "if device_name != '/device:GPU:0':\n",
    "    raise SystemError('GPU device not found')\n",
    "print('Found GPU at: {}'.format(device_name))"
   ]
  }
 ],
 "metadata": {
  "kernelspec": {
   "display_name": "Python 3",
   "language": "python",
   "name": "python3"
  },
  "language_info": {
   "codemirror_mode": {
    "name": "ipython",
    "version": 3
   },
   "file_extension": ".py",
   "mimetype": "text/x-python",
   "name": "python",
   "nbconvert_exporter": "python",
   "pygments_lexer": "ipython3",
   "version": "3.6.3"
  }
 },
 "nbformat": 4,
 "nbformat_minor": 1
}
